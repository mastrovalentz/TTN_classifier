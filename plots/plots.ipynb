{
 "cells": [
  {
   "cell_type": "markdown",
   "id": "laughing-request",
   "metadata": {},
   "source": [
    "# Plots for TTN project with HIGGS dataset"
   ]
  },
  {
   "cell_type": "markdown",
   "id": "velvet-penetration",
   "metadata": {},
   "source": [
    "***\n",
    "\n",
    "<br>\n",
    "<br>\n",
    "<br>\n",
    "<br>\n",
    "<br>\n",
    "\n",
    "***"
   ]
  },
  {
   "cell_type": "markdown",
   "id": "stable-package",
   "metadata": {},
   "source": [
    "## Preliminary operations"
   ]
  },
  {
   "cell_type": "markdown",
   "id": "median-powell",
   "metadata": {},
   "source": [
    "### Load packages"
   ]
  },
  {
   "cell_type": "code",
   "execution_count": null,
   "id": "sharp-young",
   "metadata": {},
   "outputs": [],
   "source": [
    "import os\n",
    "import sys\n",
    "import numpy as np\n",
    "import pandas as pd\n",
    "import matplotlib.pyplot as plt"
   ]
  },
  {
   "cell_type": "markdown",
   "id": "afraid-durham",
   "metadata": {},
   "source": [
    "### Settings"
   ]
  },
  {
   "cell_type": "markdown",
   "id": "annual-spread",
   "metadata": {},
   "source": [
    "#### Plot font sizes"
   ]
  },
  {
   "cell_type": "code",
   "execution_count": null,
   "id": "ruled-jones",
   "metadata": {},
   "outputs": [],
   "source": [
    "plt.rc('text',   usetex   =True)\n",
    "plt.rc('font',   family   ='serif')\n",
    "plt.rc('font',   size     =16)     # controls default text sizes\n",
    "plt.rc('axes',   titlesize=18)     # fontsize of the axes title\n",
    "plt.rc('axes',   labelsize=16)     # fontsize of the x and y labels\n",
    "plt.rc('xtick',  labelsize=12)     # fontsize of the tick labels\n",
    "plt.rc('ytick',  labelsize=12)     # fontsize of the tick labels\n",
    "plt.rc('legend', fontsize =16)     # legend fontsize\n",
    "plt.rc('figure', titlesize=18)     # fontsize of the figure title"
   ]
  },
  {
   "cell_type": "code",
   "execution_count": null,
   "id": "generic-photographer",
   "metadata": {},
   "outputs": [],
   "source": [
    "plt.rcParams['text.latex.preamble'] = [r'\\boldmath',r'\\usepackage{slashed}',r'\\usepackage{physics}']"
   ]
  },
  {
   "cell_type": "markdown",
   "id": "cutting-requirement",
   "metadata": {},
   "source": [
    "#### Plot styles"
   ]
  },
  {
   "cell_type": "code",
   "execution_count": null,
   "id": "ready-america",
   "metadata": {},
   "outputs": [],
   "source": [
    "# number of bins\n",
    "NBINS   = 100\n",
    "\n",
    "# kwargs\n",
    "LW_BKG  = 2         # linewidth\n",
    "LW_SIG  = 2         # linewidth\n",
    "EC_BKG  = \"C0\"      # edgecolor\n",
    "EC_SIG  = \"C1\"      # edgecolor\n",
    "HTYPE   = \"step\"    # histtype\n",
    "\n",
    "# density\n",
    "DENSITY = True"
   ]
  },
  {
   "cell_type": "markdown",
   "id": "coordinate-necklace",
   "metadata": {},
   "source": [
    "### Paths"
   ]
  },
  {
   "cell_type": "code",
   "execution_count": null,
   "id": "governing-immune",
   "metadata": {},
   "outputs": [],
   "source": [
    "USER_PATH = os.getcwd()\n",
    "DATA_PATH = USER_PATH + \"/../../data/\"\n",
    "SAVE_PATH = USER_PATH + \"/plots/\""
   ]
  },
  {
   "cell_type": "markdown",
   "id": "numeric-pollution",
   "metadata": {},
   "source": [
    "### Constants"
   ]
  },
  {
   "cell_type": "markdown",
   "id": "joint-dating",
   "metadata": {},
   "source": [
    "#### Number of events to take"
   ]
  },
  {
   "cell_type": "code",
   "execution_count": null,
   "id": "compatible-tucson",
   "metadata": {},
   "outputs": [],
   "source": [
    "N = 10000000"
   ]
  },
  {
   "cell_type": "markdown",
   "id": "afraid-forty",
   "metadata": {},
   "source": [
    "#### Feature strings and index"
   ]
  },
  {
   "cell_type": "code",
   "execution_count": null,
   "id": "valuable-speaking",
   "metadata": {},
   "outputs": [],
   "source": [
    "# lepton pT, lepton eta, lepton phi\n",
    "# missing energy magnitude, missing energy phi\n",
    "# jet 1 pt, jet 1 eta, jet 1 phi, jet 1 b-tag\n",
    "# jet 2 pt, jet 2 eta, jet 2 phi, jet 2 b-tag\n",
    "# jet 3 pt, jet 3 eta, jet 3 phi, jet 3 b-tag\n",
    "# jet 4 pt, jet 4 eta, jet 4 phi, jet 4 b-tag\n",
    "# m_jj, m_jjj, m_lv, m_jlv, m_bb, m_wbb, m_wwbb\n",
    "features = {\n",
    "    # label\n",
    "    \"label\"      :  0,\n",
    "    # low-level features\n",
    "    \"l_pt\"       : {\"index\" :  1, \"range\" : [ 0.0, 5.0], \"title\" : r\"\\bf{Lepton $p_{\\mathrm{T}}$}\",                \"xlabel\" : r\"\\bf{$p_{\\mathrm{T}}$}\", \"ylabel\" : r\"\\bf{Density}\"},\n",
    "    \"l_eta\"      : {\"index\" :  2, \"range\" : [-3.0, 3.0], \"title\" : r\"\\bf{Lepton $\\eta$}\",                          \"xlabel\" : r\"\\bf{$\\eta$}\",           \"ylabel\" : r\"\\bf{Density}\"},\n",
    "    \"l_phi\"      : {\"index\" :  3, \"range\" : [-3.0, 3.0], \"title\" : r\"\\bf{Lepton $\\phi$}\",                          \"xlabel\" : r\"\\bf{$\\phi$}\",           \"ylabel\" : r\"\\bf{Density}\"},\n",
    "    \"miss_E_mag\" : {\"index\" :  4, \"range\" : [ 0.0, 5.0], \"title\" : r\"\\bf{Missing energy magnitude $\\slashed{E}$}\", \"xlabel\" : r\"\\bf{$\\slashed{E}$}\",    \"ylabel\" : r\"\\bf{Density}\"},\n",
    "    \"miss_E_phi\" : {\"index\" :  5, \"range\" : [-3.0, 3.0], \"title\" : r\"\\bf{Missing energy $\\slashed{\\phi}$}\",        \"xlabel\" : r\"\\bf{$\\slashed{\\phi}$}\", \"ylabel\" : r\"\\bf{Density}\"},\n",
    "    \"j1_pt\"      : {\"index\" :  6, \"range\" : [ 0.0, 5.0], \"title\" : r\"\\bf{Jet 1 $p_{\\mathrm{T}}$}\",                 \"xlabel\" : r\"\\bf{$p_{\\mathrm{T}}$}\", \"ylabel\" : r\"\\bf{Density}\"},\n",
    "    \"j1_eta\"     : {\"index\" :  7, \"range\" : [-3.0, 3.0], \"title\" : r\"\\bf{Jet 1 $\\eta$}\",                           \"xlabel\" : r\"\\bf{$\\eta$}\",           \"ylabel\" : r\"\\bf{Density}\"},\n",
    "    \"j1_phi\"     : {\"index\" :  8, \"range\" : [-3.0, 3.0], \"title\" : r\"\\bf{Jet 1 $\\phi$}\",                           \"xlabel\" : r\"\\bf{$\\phi$}\",           \"ylabel\" : r\"\\bf{Density}\"},\n",
    "    \"j1_btag\"    : {\"index\" :  9, \"range\" : [ 0.0, 4.0], \"title\" : r\"\\bf{Jet 1 $b$-tag}\",                          \"xlabel\" : r\"\\bf{$b$-tag}\",          \"ylabel\" : r\"\\bf{Density}\"},\n",
    "    \"j2_pt\"      : {\"index\" : 10, \"range\" : [ 0.0, 5.0], \"title\" : r\"\\bf{Jet 2 $p_{\\mathrm{T}}$}\",                 \"xlabel\" : r\"\\bf{$p_{\\mathrm{T}}$}\", \"ylabel\" : r\"\\bf{Density}\"},\n",
    "    \"j2_eta\"     : {\"index\" : 11, \"range\" : [-3.0, 3.0], \"title\" : r\"\\bf{Jet 2 $\\eta$}\",                           \"xlabel\" : r\"\\bf{$\\eta$}\",           \"ylabel\" : r\"\\bf{Density}\"},\n",
    "    \"j2_phi\"     : {\"index\" : 12, \"range\" : [-3.0, 3.0], \"title\" : r\"\\bf{Jet 2 $\\phi$}\",                           \"xlabel\" : r\"\\bf{$\\phi$}\",           \"ylabel\" : r\"\\bf{Density}\"},\n",
    "    \"j2_btag\"    : {\"index\" : 13, \"range\" : [ 0.0, 4.0], \"title\" : r\"\\bf{Jet 2 $b$-tag}\",                          \"xlabel\" : r\"\\bf{$b$-tag}\",          \"ylabel\" : r\"\\bf{Density}\"},\n",
    "    \"j3_pt\"      : {\"index\" : 14, \"range\" : [ 0.0, 5.0], \"title\" : r\"\\bf{Jet 3 $p_{\\mathrm{T}}$}\",                 \"xlabel\" : r\"\\bf{$p_{\\mathrm{T}}$}\", \"ylabel\" : r\"\\bf{Density}\"},\n",
    "    \"j3_eta\"     : {\"index\" : 15, \"range\" : [-3.0, 3.0], \"title\" : r\"\\bf{Jet 3 $\\eta$}\",                           \"xlabel\" : r\"\\bf{$\\eta$}\",           \"ylabel\" : r\"\\bf{Density}\"},\n",
    "    \"j3_phi\"     : {\"index\" : 16, \"range\" : [-3.0, 3.0], \"title\" : r\"\\bf{Jet 3 $\\phi$}\",                           \"xlabel\" : r\"\\bf{$\\phi$}\",           \"ylabel\" : r\"\\bf{Density}\"},\n",
    "    \"j3_btag\"    : {\"index\" : 17, \"range\" : [ 0.0, 4.0], \"title\" : r\"\\bf{Jet 3 $b$-tag}\",                          \"xlabel\" : r\"\\bf{$b$-tag}\",          \"ylabel\" : r\"\\bf{Density}\"},\n",
    "    \"j4_pt\"      : {\"index\" : 18, \"range\" : [ 0.0, 5.0], \"title\" : r\"\\bf{Jet 4 $p_{\\mathrm{T}}$}\",                 \"xlabel\" : r\"\\bf{$p_{\\mathrm{T}}$}\", \"ylabel\" : r\"\\bf{Density}\"},\n",
    "    \"j4_eta\"     : {\"index\" : 19, \"range\" : [-3.0, 3.0], \"title\" : r\"\\bf{Jet 4 $\\eta$}\",                           \"xlabel\" : r\"\\bf{$\\eta$}\",           \"ylabel\" : r\"\\bf{Density}\"},\n",
    "    \"j4_phi\"     : {\"index\" : 20, \"range\" : [-3.0, 3.0], \"title\" : r\"\\bf{Jet 4 $\\phi$}\",                           \"xlabel\" : r\"\\bf{$\\phi$}\",           \"ylabel\" : r\"\\bf{Density}\"},\n",
    "    \"j4_btag\"    : {\"index\" : 21, \"range\" : [ 0.0, 4.0], \"title\" : r\"\\bf{Jet 4 $b$-tag}\",                          \"xlabel\" : r\"\\bf{$b$-tag}\",          \"ylabel\" : r\"\\bf{Density}\"},\n",
    "    # high-level features\n",
    "    \"m_jj\"       : {\"index\" : 22, \"range\" : [ 0.0, 3.0], \"title\" : r\"\\bf{Invariant mass $m_{jj}$}\",                \"xlabel\" : r\"\\bf{$m_{jj}$}\",         \"ylabel\" : r\"\\bf{Density}\"},\n",
    "    \"m_jjj\"      : {\"index\" : 23, \"range\" : [ 0.0, 3.0], \"title\" : r\"\\bf{Invariant mass $m_{jjj}$}\",               \"xlabel\" : r\"\\bf{$m_{jjj}$}\",        \"ylabel\" : r\"\\bf{Density}\"},\n",
    "    \"m_lv\"       : {\"index\" : 24, \"range\" : [ 0.0, 3.0], \"title\" : r\"\\bf{Invariant mass $m_{\\ell\\nu}$}\",           \"xlabel\" : r\"\\bf{$m_{\\ell\\nu}$}\",    \"ylabel\" : r\"\\bf{Density}\"},\n",
    "    \"m_jlv\"      : {\"index\" : 25, \"range\" : [ 0.0, 3.0], \"title\" : r\"\\bf{Invariant mass $m_{j\\ell\\nu}$}\",          \"xlabel\" : r\"\\bf{$m_{j\\ell\\nu}$}\",   \"ylabel\" : r\"\\bf{Density}\"},\n",
    "    \"m_bb\"       : {\"index\" : 26, \"range\" : [ 0.0, 3.0], \"title\" : r\"\\bf{Invariant mass $m_{bb}$}\",                \"xlabel\" : r\"\\bf{$m_{bb}$}\",         \"ylabel\" : r\"\\bf{Density}\"},\n",
    "    \"m_wbb\"      : {\"index\" : 27, \"range\" : [ 0.0, 3.0], \"title\" : r\"\\bf{Invariant mass $m_{Wbb}$}\",               \"xlabel\" : r\"\\bf{$m_{Wbb}$}\",        \"ylabel\" : r\"\\bf{Density}\"},\n",
    "    \"m_wwbb\"     : {\"index\" : 28, \"range\" : [ 0.0, 3.0], \"title\" : r\"\\bf{Invariant mass $m_{WWbb}$}\",              \"xlabel\" : r\"\\bf{$m_{WWbb}$}\",       \"ylabel\" : r\"\\bf{Density}\"}\n",
    "}"
   ]
  },
  {
   "cell_type": "markdown",
   "id": "minor-density",
   "metadata": {},
   "source": [
    "***\n",
    "\n",
    "<br>\n",
    "<br>\n",
    "<br>\n",
    "<br>\n",
    "<br>\n",
    "\n",
    "***"
   ]
  },
  {
   "cell_type": "markdown",
   "id": "seven-settlement",
   "metadata": {},
   "source": [
    "## Load dataset"
   ]
  },
  {
   "cell_type": "code",
   "execution_count": null,
   "id": "constitutional-bangkok",
   "metadata": {},
   "outputs": [],
   "source": [
    "if os.path.isfile(DATA_PATH + \"HIGGS.csv.gz\"):\n",
    "    df = pd.read_csv(DATA_PATH + \"HIGGS.csv.gz\", nrows=N, compression='gzip', error_bad_lines=False, header=None)\n",
    "elif os.path.isfile(DATA_PATH + \"HIGGS.csv\"):\n",
    "    df = pd.read_csv(DATA_PATH + \"HIGGS.csv\",    nrows=N,                     error_bad_lines=False, header=None)"
   ]
  },
  {
   "cell_type": "code",
   "execution_count": null,
   "id": "consistent-conducting",
   "metadata": {},
   "outputs": [],
   "source": [
    "df_bkg = df[df[0]==0]\n",
    "df_sig = df[df[0]==1]"
   ]
  },
  {
   "cell_type": "code",
   "execution_count": null,
   "id": "linear-matrix",
   "metadata": {},
   "outputs": [],
   "source": [
    "print(\"BKG data shape:\", df_bkg.shape)\n",
    "print(\"SIG data shape:\", df_sig.shape)"
   ]
  },
  {
   "cell_type": "code",
   "execution_count": null,
   "id": "fiscal-addiction",
   "metadata": {},
   "outputs": [],
   "source": [
    "del df"
   ]
  },
  {
   "cell_type": "markdown",
   "id": "thrown-spyware",
   "metadata": {},
   "source": [
    "***\n",
    "\n",
    "<br>\n",
    "<br>\n",
    "<br>\n",
    "<br>\n",
    "<br>\n",
    "\n",
    "***"
   ]
  },
  {
   "cell_type": "markdown",
   "id": "completed-trainer",
   "metadata": {},
   "source": [
    "## Features plot"
   ]
  },
  {
   "cell_type": "code",
   "execution_count": null,
   "id": "pretty-chart",
   "metadata": {},
   "outputs": [],
   "source": [
    "for i, FEATURE in enumerate(features.keys()):\n",
    "    if i==0:\n",
    "        continue\n",
    "    \n",
    "    plt.figure(figsize=(6,4))\n",
    "    plt.axes(axisbelow=True)\n",
    "\n",
    "    plt.hist(\n",
    "        x         = df_bkg[features[FEATURE][\"index\"]],\n",
    "        linewidth = LW_BKG,\n",
    "        edgecolor = EC_BKG,\n",
    "        bins      = NBINS,\n",
    "        histtype  = HTYPE,\n",
    "        density   = DENSITY,\n",
    "        range     = features[FEATURE][\"range\"],\n",
    "        label     = r\"\\bf{Bkg}\"\n",
    "    )\n",
    "    plt.hist(\n",
    "        x         = df_sig[features[FEATURE][\"index\"]],\n",
    "        linewidth = LW_SIG,\n",
    "        edgecolor = EC_SIG,\n",
    "        bins      = NBINS,\n",
    "        histtype  = HTYPE,\n",
    "        density   = DENSITY,\n",
    "        range     = features[FEATURE][\"range\"],\n",
    "        label     = r\"\\bf{Sig}\"\n",
    "    )\n",
    "    plt.title(features[FEATURE][\"title\"])\n",
    "    plt.xlabel(features[FEATURE][\"xlabel\"])\n",
    "    plt.ylabel(features[FEATURE][\"ylabel\"])\n",
    "    plt.legend(fontsize=12)\n",
    "    plt.grid(linestyle='--', linewidth=0.25)\n",
    "    plt.savefig(SAVE_PATH + \"features/\" + FEATURE + \".pdf\", bbox_inches='tight')\n",
    "    \n",
    "    plt.show()"
   ]
  },
  {
   "cell_type": "markdown",
   "id": "found-subsection",
   "metadata": {},
   "source": [
    "***\n",
    "\n",
    "<br>\n",
    "<br>\n",
    "<br>\n",
    "<br>\n",
    "<br>\n",
    "\n",
    "***"
   ]
  },
  {
   "cell_type": "markdown",
   "id": "opening-conducting",
   "metadata": {},
   "source": [
    "## Activation functions plot"
   ]
  },
  {
   "cell_type": "markdown",
   "id": "pretty-hebrew",
   "metadata": {},
   "source": [
    "### Definition of activations and derivatives"
   ]
  },
  {
   "cell_type": "markdown",
   "id": "chubby-colombia",
   "metadata": {},
   "source": [
    "#### ELU"
   ]
  },
  {
   "cell_type": "code",
   "execution_count": null,
   "id": "practical-amendment",
   "metadata": {},
   "outputs": [],
   "source": [
    "def elu(x):\n",
    "    if x > 0 :\n",
    "        return x\n",
    "    else : \n",
    "        return (np.exp(x)-1)\n",
    "\n",
    "def der_elu(x):\n",
    "    if x > 0 :\n",
    "        return 1\n",
    "    else :\n",
    "        return np.exp(x)"
   ]
  },
  {
   "cell_type": "markdown",
   "id": "guilty-stake",
   "metadata": {},
   "source": [
    "#### Sigmoid"
   ]
  },
  {
   "cell_type": "code",
   "execution_count": null,
   "id": "tested-twist",
   "metadata": {},
   "outputs": [],
   "source": [
    "def sigmoid(x):\n",
    "    return 1/(1+np.exp(-x))\n",
    "\n",
    "def der_sigmoid(x):\n",
    "    return 1/(1+np.exp(-x)) * (1-1/(1+np.exp(-x)))"
   ]
  },
  {
   "cell_type": "markdown",
   "id": "effective-reminder",
   "metadata": {},
   "source": [
    "#### Hyperbolic tangent"
   ]
  },
  {
   "cell_type": "code",
   "execution_count": null,
   "id": "legitimate-posting",
   "metadata": {},
   "outputs": [],
   "source": [
    "def hyperb(x):\n",
    "    return (np.exp(x)-np.exp(-x)) / (np.exp(x) + np.exp(-x))\n",
    "\n",
    "def der_hyperb(x):\n",
    "    return 1 - ((np.exp(x)-np.exp(-x)) / (np.exp(x) + np.exp(-x)))**2"
   ]
  },
  {
   "cell_type": "markdown",
   "id": "backed-campus",
   "metadata": {},
   "source": [
    "#### ReLU"
   ]
  },
  {
   "cell_type": "code",
   "execution_count": null,
   "id": "armed-public",
   "metadata": {},
   "outputs": [],
   "source": [
    "def relu(x) :\n",
    "    return max(x, 0)\n",
    "\n",
    "def der_relu(x):\n",
    "    if x <= 0 :\n",
    "        return 0\n",
    "    if x > 0 :\n",
    "        return 1"
   ]
  },
  {
   "cell_type": "markdown",
   "id": "rural-essay",
   "metadata": {},
   "source": [
    "#### Leaky ReLU"
   ]
  },
  {
   "cell_type": "code",
   "execution_count": null,
   "id": "lightweight-hardware",
   "metadata": {},
   "outputs": [],
   "source": [
    "def leaky_relu(x):\n",
    "    return max(0.01*x,x)\n",
    "\n",
    "def der_leaky_relu(x):\n",
    "    if x < 0 :\n",
    "        return 0.01\n",
    "    if x >= 0 :\n",
    "        return 1"
   ]
  },
  {
   "cell_type": "markdown",
   "id": "internal-hello",
   "metadata": {},
   "source": [
    "### Plot of activations"
   ]
  },
  {
   "cell_type": "code",
   "execution_count": null,
   "id": "random-growth",
   "metadata": {},
   "outputs": [],
   "source": [
    "plt.figure(figsize=(9,6))\n",
    "plt.axes(axisbelow=True)\n",
    "\n",
    "x = np.linspace(-3,3,500)\n",
    "plt.plot(x, list(map(lambda x: elu(x),     x)), \"-\", label=r\"\\bf{$\\mathrm{ELU}(x)$}\", linewidth=2, markersize=5)\n",
    "plt.plot(x, list(map(lambda x: sigmoid(x), x)), \"-\", label=r\"\\bf{$\\sigma(x)$}\",       linewidth=2, markersize=5)\n",
    "# plt.plot(x, list(map(lambda x: hyperb(x),  x)), \".\", label=r\"\\bf{tanh}\"   , linewidth=2, markersize=5)\n",
    "# plt.plot(x, list(map(lambda x: relu(x),    x)), \".\", label=r\"\\bf{ReLU}\"   , linewidth=2, markersize=5)\n",
    "\n",
    "plt.xlim(-3,3)\n",
    "plt.xlabel(r\"\\bf{$x$}\")\n",
    "plt.ylabel(r\"\\bf{$f(x)$}\")\n",
    "plt.title(r\"\\bf{Activation functions}\")\n",
    "plt.legend(fontsize=12)\n",
    "plt.grid(linestyle='--', linewidth=0.25)\n",
    "\n",
    "plt.savefig(SAVE_PATH + \"activations/activations.pdf\", bbox_inches='tight')\n",
    "plt.show()"
   ]
  },
  {
   "cell_type": "markdown",
   "id": "passive-rubber",
   "metadata": {},
   "source": [
    "### Plot of activations derivatives"
   ]
  },
  {
   "cell_type": "code",
   "execution_count": null,
   "id": "exposed-exhibit",
   "metadata": {},
   "outputs": [],
   "source": [
    "plt.figure(figsize=(9,6))\n",
    "plt.axes(axisbelow=True)\n",
    "\n",
    "x = np.linspace(-3,3,500)\n",
    "plt.plot(x, list(map(lambda x: der_elu(x),     x)), \"-\", label=r\"\\bf{$\\mathrm{ELU}(x)$}\", linewidth=2, markersize=5)\n",
    "plt.plot(x, list(map(lambda x: der_sigmoid(x), x)), \"-\", label=r\"\\bf{$\\sigma(x)$}\",       linewidth=2, markersize=5)\n",
    "# plt.plot(x, list(map(lambda x: der_hyperb(x),  x)), \".\", label=r\"\\bf{tanh}\"   , linewidth=2, markersize=5)\n",
    "# plt.plot(x, list(map(lambda x: der_relu(x),    x)), \".\", label=r\"\\bf{ReLU}\"   , linewidth=2, markersize=5)\n",
    "\n",
    "plt.xlim(-3,3)\n",
    "plt.xlabel(r\"\\bf{$x$}\")\n",
    "plt.ylabel(r\"\\bf{$f^{\\prime}(x)$}\")\n",
    "plt.title(r\"\\bf{Activation functions derivatives}\")\n",
    "plt.legend(fontsize=12)\n",
    "plt.grid(linestyle='--', linewidth=0.25)\n",
    "\n",
    "plt.savefig(SAVE_PATH + \"activations/derivatives.pdf\", bbox_inches='tight')\n",
    "plt.show()"
   ]
  }
 ],
 "metadata": {
  "kernelspec": {
   "display_name": "Python 3",
   "language": "python",
   "name": "python3"
  },
  "language_info": {
   "codemirror_mode": {
    "name": "ipython",
    "version": 3
   },
   "file_extension": ".py",
   "mimetype": "text/x-python",
   "name": "python",
   "nbconvert_exporter": "python",
   "pygments_lexer": "ipython3",
   "version": "3.8.6"
  },
  "toc-autonumbering": true
 },
 "nbformat": 4,
 "nbformat_minor": 5
}
